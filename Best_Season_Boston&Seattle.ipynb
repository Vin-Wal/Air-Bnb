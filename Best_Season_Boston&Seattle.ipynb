{
 "cells": [
  {
   "cell_type": "code",
   "execution_count": 4,
   "id": "bffbaaa4",
   "metadata": {},
   "outputs": [],
   "source": [
    "import pandas as pd\n",
    "import numpy as np\n",
    "import matplotlib.pyplot as plt\n",
    "import seaborn as sns\n",
    "\n",
    "import datetime as dt\n",
    "\n",
    "pd.set_option('display.max_columns',None)\n"
   ]
  },
  {
   "cell_type": "code",
   "execution_count": 5,
   "id": "4de0cd5e",
   "metadata": {},
   "outputs": [],
   "source": [
    "## Reading Boston City related data\n",
    "\n",
    "\n",
    "Boston_Calender = pd.read_csv(\"C:\\\\Users\\\\A04248\\\\Desktop\\\\Boston\\\\calendar.csv\")\n",
    "\n"
   ]
  },
  {
   "cell_type": "code",
   "execution_count": 6,
   "id": "8fa39620",
   "metadata": {},
   "outputs": [
    {
     "data": {
      "text/html": [
       "<div>\n",
       "<style scoped>\n",
       "    .dataframe tbody tr th:only-of-type {\n",
       "        vertical-align: middle;\n",
       "    }\n",
       "\n",
       "    .dataframe tbody tr th {\n",
       "        vertical-align: top;\n",
       "    }\n",
       "\n",
       "    .dataframe thead th {\n",
       "        text-align: right;\n",
       "    }\n",
       "</style>\n",
       "<table border=\"1\" class=\"dataframe\">\n",
       "  <thead>\n",
       "    <tr style=\"text-align: right;\">\n",
       "      <th></th>\n",
       "      <th>listing_id</th>\n",
       "      <th>date</th>\n",
       "      <th>available</th>\n",
       "      <th>price</th>\n",
       "    </tr>\n",
       "  </thead>\n",
       "  <tbody>\n",
       "    <tr>\n",
       "      <th>333683</th>\n",
       "      <td>5885130</td>\n",
       "      <td>2017-02-28</td>\n",
       "      <td>t</td>\n",
       "      <td>$295.00</td>\n",
       "    </tr>\n",
       "    <tr>\n",
       "      <th>86218</th>\n",
       "      <td>14474750</td>\n",
       "      <td>2017-04-05</td>\n",
       "      <td>f</td>\n",
       "      <td>NaN</td>\n",
       "    </tr>\n",
       "    <tr>\n",
       "      <th>789415</th>\n",
       "      <td>9425087</td>\n",
       "      <td>2016-11-24</td>\n",
       "      <td>f</td>\n",
       "      <td>NaN</td>\n",
       "    </tr>\n",
       "    <tr>\n",
       "      <th>730919</th>\n",
       "      <td>8782592</td>\n",
       "      <td>2017-02-15</td>\n",
       "      <td>f</td>\n",
       "      <td>NaN</td>\n",
       "    </tr>\n",
       "    <tr>\n",
       "      <th>959639</th>\n",
       "      <td>3181719</td>\n",
       "      <td>2017-04-29</td>\n",
       "      <td>t</td>\n",
       "      <td>$135.00</td>\n",
       "    </tr>\n",
       "  </tbody>\n",
       "</table>\n",
       "</div>"
      ],
      "text/plain": [
       "        listing_id        date available    price\n",
       "333683     5885130  2017-02-28         t  $295.00\n",
       "86218     14474750  2017-04-05         f      NaN\n",
       "789415     9425087  2016-11-24         f      NaN\n",
       "730919     8782592  2017-02-15         f      NaN\n",
       "959639     3181719  2017-04-29         t  $135.00"
      ]
     },
     "execution_count": 6,
     "metadata": {},
     "output_type": "execute_result"
    }
   ],
   "source": [
    "Boston_Calender.sample(5)"
   ]
  },
  {
   "cell_type": "code",
   "execution_count": 7,
   "id": "d474ca49",
   "metadata": {},
   "outputs": [
    {
     "name": "stdout",
     "output_type": "stream",
     "text": [
      "Boston_Calender Shape (1308890, 4) \n",
      "\n"
     ]
    }
   ],
   "source": [
    "print('Boston_Calender Shape', Boston_Calender.shape,'\\n')"
   ]
  },
  {
   "cell_type": "code",
   "execution_count": 8,
   "id": "2b472fd2",
   "metadata": {},
   "outputs": [],
   "source": [
    "## Reading Seattle City related data\n",
    "\n",
    "Seattle_Calender = pd.read_csv(\"C:\\\\Users\\\\A04248\\\\Desktop\\\\Seattle\\\\calendar.csv\")\n",
    "\n"
   ]
  },
  {
   "cell_type": "code",
   "execution_count": 9,
   "id": "6611ab38",
   "metadata": {},
   "outputs": [
    {
     "data": {
      "text/html": [
       "<div>\n",
       "<style scoped>\n",
       "    .dataframe tbody tr th:only-of-type {\n",
       "        vertical-align: middle;\n",
       "    }\n",
       "\n",
       "    .dataframe tbody tr th {\n",
       "        vertical-align: top;\n",
       "    }\n",
       "\n",
       "    .dataframe thead th {\n",
       "        text-align: right;\n",
       "    }\n",
       "</style>\n",
       "<table border=\"1\" class=\"dataframe\">\n",
       "  <thead>\n",
       "    <tr style=\"text-align: right;\">\n",
       "      <th></th>\n",
       "      <th>listing_id</th>\n",
       "      <th>date</th>\n",
       "      <th>available</th>\n",
       "      <th>price</th>\n",
       "    </tr>\n",
       "  </thead>\n",
       "  <tbody>\n",
       "    <tr>\n",
       "      <th>939546</th>\n",
       "      <td>7070169</td>\n",
       "      <td>2016-02-09</td>\n",
       "      <td>t</td>\n",
       "      <td>$96.00</td>\n",
       "    </tr>\n",
       "    <tr>\n",
       "      <th>1271192</th>\n",
       "      <td>9508837</td>\n",
       "      <td>2016-09-22</td>\n",
       "      <td>t</td>\n",
       "      <td>$99.00</td>\n",
       "    </tr>\n",
       "    <tr>\n",
       "      <th>510083</th>\n",
       "      <td>6403878</td>\n",
       "      <td>2016-06-30</td>\n",
       "      <td>f</td>\n",
       "      <td>NaN</td>\n",
       "    </tr>\n",
       "    <tr>\n",
       "      <th>872685</th>\n",
       "      <td>4681687</td>\n",
       "      <td>2016-12-04</td>\n",
       "      <td>t</td>\n",
       "      <td>$58.00</td>\n",
       "    </tr>\n",
       "    <tr>\n",
       "      <th>527441</th>\n",
       "      <td>5031383</td>\n",
       "      <td>2016-01-20</td>\n",
       "      <td>t</td>\n",
       "      <td>$40.00</td>\n",
       "    </tr>\n",
       "  </tbody>\n",
       "</table>\n",
       "</div>"
      ],
      "text/plain": [
       "         listing_id        date available   price\n",
       "939546      7070169  2016-02-09         t  $96.00\n",
       "1271192     9508837  2016-09-22         t  $99.00\n",
       "510083      6403878  2016-06-30         f     NaN\n",
       "872685      4681687  2016-12-04         t  $58.00\n",
       "527441      5031383  2016-01-20         t  $40.00"
      ]
     },
     "execution_count": 9,
     "metadata": {},
     "output_type": "execute_result"
    }
   ],
   "source": [
    "Seattle_Calender.sample(5)"
   ]
  },
  {
   "cell_type": "code",
   "execution_count": 10,
   "id": "e7a2b36e",
   "metadata": {},
   "outputs": [
    {
     "name": "stdout",
     "output_type": "stream",
     "text": [
      "Seattle_Calender Shape (1393570, 4)\n"
     ]
    }
   ],
   "source": [
    "print('Seattle_Calender Shape', Seattle_Calender.shape)\n"
   ]
  },
  {
   "cell_type": "code",
   "execution_count": 11,
   "id": "6fbaae06",
   "metadata": {},
   "outputs": [],
   "source": [
    "#What is the best time to Visit Seattle and Boston"
   ]
  },
  {
   "cell_type": "code",
   "execution_count": 12,
   "id": "76727c4b",
   "metadata": {},
   "outputs": [
    {
     "name": "stdout",
     "output_type": "stream",
     "text": [
      "Boston Calender Starting Date 2016-09-06\n",
      "Boston Calender Ending Date 2017-09-05\n"
     ]
    }
   ],
   "source": [
    "## Calender Date Range for Boston\n",
    "## So we have 1 Full year Data\n",
    "\n",
    "print('Boston Calender Starting Date', Boston_Calender['date'].min())\n",
    "print('Boston Calender Ending Date',   Boston_Calender['date'].max())"
   ]
  },
  {
   "cell_type": "code",
   "execution_count": 13,
   "id": "810849c1",
   "metadata": {},
   "outputs": [
    {
     "name": "stdout",
     "output_type": "stream",
     "text": [
      "<class 'pandas.core.frame.DataFrame'>\n",
      "RangeIndex: 1308890 entries, 0 to 1308889\n",
      "Data columns (total 4 columns):\n",
      " #   Column      Non-Null Count    Dtype \n",
      "---  ------      --------------    ----- \n",
      " 0   listing_id  1308890 non-null  int64 \n",
      " 1   date        1308890 non-null  object\n",
      " 2   available   1308890 non-null  object\n",
      " 3   price       643037 non-null   object\n",
      "dtypes: int64(1), object(3)\n",
      "memory usage: 39.9+ MB\n"
     ]
    }
   ],
   "source": [
    "# Column 'price' has around 50% null values\n",
    "\n",
    "Boston_Calender.info()"
   ]
  },
  {
   "cell_type": "code",
   "execution_count": 14,
   "id": "7442d85f",
   "metadata": {},
   "outputs": [
    {
     "data": {
      "text/plain": [
       "listing_id    0\n",
       "date          0\n",
       "available     0\n",
       "price         0\n",
       "dtype: int64"
      ]
     },
     "execution_count": 14,
     "metadata": {},
     "output_type": "execute_result"
    }
   ],
   "source": [
    "#Dropping the rows where price has Nan values. Since nan values are around 50%, amputing them may introduce bias\n",
    "\n",
    "Boston_Calender = Boston_Calender.dropna(subset = ['price'],how = 'any')\n",
    "Boston_Calender.isnull().sum()"
   ]
  },
  {
   "cell_type": "code",
   "execution_count": 15,
   "id": "6ac1f00c",
   "metadata": {},
   "outputs": [
    {
     "name": "stderr",
     "output_type": "stream",
     "text": [
      "C:\\Users\\A04248\\AppData\\Local\\Temp\\ipykernel_1648\\778455269.py:3: FutureWarning: The default value of regex will change from True to False in a future version. In addition, single character regular expressions will *not* be treated as literal strings when regex=True.\n",
      "  Boston_Calender['price'] = Boston_Calender['price'].str.replace('$','').str.replace(',','')\n"
     ]
    }
   ],
   "source": [
    "# Removing $ and , from Price column's values\n",
    "\n",
    "Boston_Calender['price'] = Boston_Calender['price'].str.replace('$','').str.replace(',','')\n"
   ]
  },
  {
   "cell_type": "code",
   "execution_count": 16,
   "id": "bf3eed04",
   "metadata": {},
   "outputs": [],
   "source": [
    "#Changing datatype for date column from object to datetime so that we can perform datetime operation\n",
    "#Changing datatype for price column from object to float so that we can perform mathematical operation\n",
    "\n",
    "\n",
    "Boston_Calender['date'] = pd.to_datetime(Boston_Calender['date'])\n",
    "Boston_Calender['price'] = Boston_Calender['price'].astype(float)\n"
   ]
  },
  {
   "cell_type": "code",
   "execution_count": 17,
   "id": "0b9cbf15",
   "metadata": {},
   "outputs": [
    {
     "data": {
      "text/plain": [
       "<AxesSubplot:ylabel='price'>"
      ]
     },
     "execution_count": 17,
     "metadata": {},
     "output_type": "execute_result"
    },
    {
     "data": {
      "image/png": "[encoded data removed]",
      "text/plain": [
       "<Figure size 432x288 with 1 Axes>"
      ]
     },
     "metadata": {
      "needs_background": "light"
     },
     "output_type": "display_data"
    }
   ],
   "source": [
    "#Price column can have outliers. Checking for outliers\n",
    "\n",
    "sns.boxplot(y = Boston_Calender['price'])"
   ]
  },
  {
   "cell_type": "code",
   "execution_count": 18,
   "id": "707c77f6",
   "metadata": {},
   "outputs": [],
   "source": [
    "\n",
    "def Outlier_Treatment(data):\n",
    "    \n",
    "    Q1 = np.percentile(data,25)\n",
    "    Q3= np.percentile(data,75) \n",
    "    IQR = Q3-Q1\n",
    "    \n",
    "    Upper_IQR_bound = (Q3)+(1.5*IQR) \n",
    "    Lower_IQR_bound = (Q1)-(1.5*IQR)\n",
    "    \n",
    "    data = np.where(data>Upper_IQR_bound,Upper_IQR_bound,data) \n",
    "    data = np.where(data<Lower_IQR_bound,Lower_IQR_bound,data)\n",
    "    \n",
    "    return data"
   ]
  },
  {
   "cell_type": "code",
   "execution_count": 19,
   "id": "57571055",
   "metadata": {},
   "outputs": [
    {
     "data": {
      "text/plain": [
       "<AxesSubplot:ylabel='price'>"
      ]
     },
     "execution_count": 19,
     "metadata": {},
     "output_type": "execute_result"
    },
    {
     "data": {
      "image/png": "[encoded data removed]",
      "text/plain": [
       "<Figure size 432x288 with 1 Axes>"
      ]
     },
     "metadata": {
      "needs_background": "light"
     },
     "output_type": "display_data"
    }
   ],
   "source": [
    "Boston_Calender['price'] = Outlier_Treatment(Boston_Calender['price'])\n",
    "sns.boxplot(y = Boston_Calender['price'])"
   ]
  },
  {
   "cell_type": "code",
   "execution_count": 20,
   "id": "3ea410d6",
   "metadata": {},
   "outputs": [
    {
     "data": {
      "text/plain": [
       "count    643037.000000\n",
       "mean        189.031208\n",
       "std         126.205048\n",
       "min          11.000000\n",
       "25%          85.000000\n",
       "50%         150.000000\n",
       "75%         255.000000\n",
       "max         510.000000\n",
       "Name: price, dtype: float64"
      ]
     },
     "execution_count": 20,
     "metadata": {},
     "output_type": "execute_result"
    }
   ],
   "source": [
    "Boston_Calender['price'].describe()"
   ]
  },
  {
   "cell_type": "code",
   "execution_count": 21,
   "id": "03f56bbb",
   "metadata": {},
   "outputs": [
    {
     "data": {
      "text/html": [
       "<div>\n",
       "<style scoped>\n",
       "    .dataframe tbody tr th:only-of-type {\n",
       "        vertical-align: middle;\n",
       "    }\n",
       "\n",
       "    .dataframe tbody tr th {\n",
       "        vertical-align: top;\n",
       "    }\n",
       "\n",
       "    .dataframe thead th {\n",
       "        text-align: right;\n",
       "    }\n",
       "</style>\n",
       "<table border=\"1\" class=\"dataframe\">\n",
       "  <thead>\n",
       "    <tr style=\"text-align: right;\">\n",
       "      <th></th>\n",
       "      <th>index</th>\n",
       "      <th>listing_id</th>\n",
       "      <th>date</th>\n",
       "      <th>available</th>\n",
       "      <th>price</th>\n",
       "      <th>Month</th>\n",
       "      <th>Week_Number</th>\n",
       "    </tr>\n",
       "  </thead>\n",
       "  <tbody>\n",
       "    <tr>\n",
       "      <th>0</th>\n",
       "      <td>1056191</td>\n",
       "      <td>57156</td>\n",
       "      <td>2017-01-02</td>\n",
       "      <td>t</td>\n",
       "      <td>95.0</td>\n",
       "      <td>January</td>\n",
       "      <td>1</td>\n",
       "    </tr>\n",
       "    <tr>\n",
       "      <th>1</th>\n",
       "      <td>922575</td>\n",
       "      <td>11760822</td>\n",
       "      <td>2017-01-02</td>\n",
       "      <td>t</td>\n",
       "      <td>130.0</td>\n",
       "      <td>January</td>\n",
       "      <td>1</td>\n",
       "    </tr>\n",
       "    <tr>\n",
       "      <th>2</th>\n",
       "      <td>862741</td>\n",
       "      <td>8428314</td>\n",
       "      <td>2017-01-02</td>\n",
       "      <td>t</td>\n",
       "      <td>199.0</td>\n",
       "      <td>January</td>\n",
       "      <td>1</td>\n",
       "    </tr>\n",
       "    <tr>\n",
       "      <th>3</th>\n",
       "      <td>1227737</td>\n",
       "      <td>14251839</td>\n",
       "      <td>2017-01-06</td>\n",
       "      <td>t</td>\n",
       "      <td>99.0</td>\n",
       "      <td>January</td>\n",
       "      <td>1</td>\n",
       "    </tr>\n",
       "    <tr>\n",
       "      <th>4</th>\n",
       "      <td>1227738</td>\n",
       "      <td>14251839</td>\n",
       "      <td>2017-01-05</td>\n",
       "      <td>t</td>\n",
       "      <td>79.0</td>\n",
       "      <td>January</td>\n",
       "      <td>1</td>\n",
       "    </tr>\n",
       "    <tr>\n",
       "      <th>...</th>\n",
       "      <td>...</td>\n",
       "      <td>...</td>\n",
       "      <td>...</td>\n",
       "      <td>...</td>\n",
       "      <td>...</td>\n",
       "      <td>...</td>\n",
       "      <td>...</td>\n",
       "    </tr>\n",
       "    <tr>\n",
       "      <th>643032</th>\n",
       "      <td>64115</td>\n",
       "      <td>4149974</td>\n",
       "      <td>2016-12-31</td>\n",
       "      <td>t</td>\n",
       "      <td>103.0</td>\n",
       "      <td>December</td>\n",
       "      <td>52</td>\n",
       "    </tr>\n",
       "    <tr>\n",
       "      <th>643033</th>\n",
       "      <td>64114</td>\n",
       "      <td>4149974</td>\n",
       "      <td>2017-01-01</td>\n",
       "      <td>t</td>\n",
       "      <td>103.0</td>\n",
       "      <td>January</td>\n",
       "      <td>52</td>\n",
       "    </tr>\n",
       "    <tr>\n",
       "      <th>643034</th>\n",
       "      <td>63757</td>\n",
       "      <td>3730447</td>\n",
       "      <td>2017-01-01</td>\n",
       "      <td>t</td>\n",
       "      <td>180.0</td>\n",
       "      <td>January</td>\n",
       "      <td>52</td>\n",
       "    </tr>\n",
       "    <tr>\n",
       "      <th>643035</th>\n",
       "      <td>173918</td>\n",
       "      <td>10328539</td>\n",
       "      <td>2016-12-30</td>\n",
       "      <td>t</td>\n",
       "      <td>100.0</td>\n",
       "      <td>December</td>\n",
       "      <td>52</td>\n",
       "    </tr>\n",
       "    <tr>\n",
       "      <th>643036</th>\n",
       "      <td>770739</td>\n",
       "      <td>10295349</td>\n",
       "      <td>2017-01-01</td>\n",
       "      <td>t</td>\n",
       "      <td>70.0</td>\n",
       "      <td>January</td>\n",
       "      <td>52</td>\n",
       "    </tr>\n",
       "  </tbody>\n",
       "</table>\n",
       "<p>643037 rows × 7 columns</p>\n",
       "</div>"
      ],
      "text/plain": [
       "          index  listing_id       date available  price     Month  Week_Number\n",
       "0       1056191       57156 2017-01-02         t   95.0   January            1\n",
       "1        922575    11760822 2017-01-02         t  130.0   January            1\n",
       "2        862741     8428314 2017-01-02         t  199.0   January            1\n",
       "3       1227737    14251839 2017-01-06         t   99.0   January            1\n",
       "4       1227738    14251839 2017-01-05         t   79.0   January            1\n",
       "...         ...         ...        ...       ...    ...       ...          ...\n",
       "643032    64115     4149974 2016-12-31         t  103.0  December           52\n",
       "643033    64114     4149974 2017-01-01         t  103.0   January           52\n",
       "643034    63757     3730447 2017-01-01         t  180.0   January           52\n",
       "643035   173918    10328539 2016-12-30         t  100.0  December           52\n",
       "643036   770739    10295349 2017-01-01         t   70.0   January           52\n",
       "\n",
       "[643037 rows x 7 columns]"
      ]
     },
     "execution_count": 21,
     "metadata": {},
     "output_type": "execute_result"
    }
   ],
   "source": [
    "## Adding a new column 'Month' and Week as we are check what is best month for visting Boston\n",
    "\n",
    "Boston_Calender['Month'] = Boston_Calender['date'].dt.month_name()\n",
    "Boston_Calender['Week_Number'] = Boston_Calender['date'].dt.isocalendar().week\n",
    "Boston_Calender = Boston_Calender.sort_values(by = ['Week_Number']).reset_index()\n",
    "Boston_Calender"
   ]
  },
  {
   "cell_type": "code",
   "execution_count": 22,
   "id": "0c6818c3",
   "metadata": {},
   "outputs": [
    {
     "data": {
      "text/plain": [
       "<AxesSubplot:xlabel='Month'>"
      ]
     },
     "execution_count": 22,
     "metadata": {},
     "output_type": "execute_result"
    },
    {
     "data": {
      "image/png": "[encoded data removed]",
      "text/plain": [
       "<Figure size 432x288 with 1 Axes>"
      ]
     },
     "metadata": {
      "needs_background": "light"
     },
     "output_type": "display_data"
    }
   ],
   "source": [
    "Boston_Calender.groupby(['Month'],sort = False)['price'].mean().plot(kind = 'bar')"
   ]
  },
  {
   "cell_type": "code",
   "execution_count": 23,
   "id": "e3964272",
   "metadata": {},
   "outputs": [],
   "source": [
    "## Seattle"
   ]
  },
  {
   "cell_type": "code",
   "execution_count": 24,
   "id": "1b649506",
   "metadata": {},
   "outputs": [
    {
     "name": "stdout",
     "output_type": "stream",
     "text": [
      "Seattle Calender Starting Date 2016-01-04\n",
      "Seattle Calender Ending Date 2017-01-02\n"
     ]
    }
   ],
   "source": [
    "## Calender Date Range for Seattle\n",
    "## So we have 1 Full year Data\n",
    "\n",
    "print('Seattle Calender Starting Date', Seattle_Calender['date'].min())\n",
    "print('Seattle Calender Ending Date',   Seattle_Calender['date'].max())"
   ]
  },
  {
   "cell_type": "code",
   "execution_count": 25,
   "id": "3c451655",
   "metadata": {},
   "outputs": [
    {
     "name": "stdout",
     "output_type": "stream",
     "text": [
      "<class 'pandas.core.frame.DataFrame'>\n",
      "RangeIndex: 1393570 entries, 0 to 1393569\n",
      "Data columns (total 4 columns):\n",
      " #   Column      Non-Null Count    Dtype \n",
      "---  ------      --------------    ----- \n",
      " 0   listing_id  1393570 non-null  int64 \n",
      " 1   date        1393570 non-null  object\n",
      " 2   available   1393570 non-null  object\n",
      " 3   price       934542 non-null   object\n",
      "dtypes: int64(1), object(3)\n",
      "memory usage: 42.5+ MB\n"
     ]
    }
   ],
   "source": [
    "# Column 'price' has around 25% null values\n",
    "\n",
    "Seattle_Calender.info()"
   ]
  },
  {
   "cell_type": "code",
   "execution_count": 26,
   "id": "f28366b3",
   "metadata": {},
   "outputs": [
    {
     "data": {
      "text/plain": [
       "listing_id    0\n",
       "date          0\n",
       "available     0\n",
       "price         0\n",
       "dtype: int64"
      ]
     },
     "execution_count": 26,
     "metadata": {},
     "output_type": "execute_result"
    }
   ],
   "source": [
    "#Dropping the rows where price has Nan values. \n",
    "\n",
    "Seattle_Calender = Seattle_Calender.dropna(subset = ['price'],how = 'any')\n",
    "Seattle_Calender.isnull().sum()"
   ]
  },
  {
   "cell_type": "code",
   "execution_count": 27,
   "id": "998ddc3c",
   "metadata": {},
   "outputs": [
    {
     "name": "stderr",
     "output_type": "stream",
     "text": [
      "C:\\Users\\A04248\\AppData\\Local\\Temp\\ipykernel_1648\\3455125904.py:3: FutureWarning: The default value of regex will change from True to False in a future version. In addition, single character regular expressions will *not* be treated as literal strings when regex=True.\n",
      "  Seattle_Calender['price'] = Seattle_Calender['price'].str.replace('$','').str.replace(',','')\n"
     ]
    }
   ],
   "source": [
    "# Removing $ and , from Price column's values\n",
    "\n",
    "Seattle_Calender['price'] = Seattle_Calender['price'].str.replace('$','').str.replace(',','')"
   ]
  },
  {
   "cell_type": "code",
   "execution_count": 28,
   "id": "992c0eec",
   "metadata": {},
   "outputs": [],
   "source": [
    "#Changing datatype for date column from object to datetime so that we can perform datetime operation\n",
    "#Changing datatype for price column from object to float so that we can perform mathematical operation\n",
    "\n",
    "\n",
    "Seattle_Calender['date'] = pd.to_datetime(Seattle_Calender['date'])\n",
    "Seattle_Calender['price'] = Seattle_Calender['price'].astype(float)\n"
   ]
  },
  {
   "cell_type": "code",
   "execution_count": 29,
   "id": "208505b2",
   "metadata": {},
   "outputs": [
    {
     "data": {
      "text/plain": [
       "<AxesSubplot:ylabel='price'>"
      ]
     },
     "execution_count": 29,
     "metadata": {},
     "output_type": "execute_result"
    },
    {
     "data": {
      "image/png": "[encoded data removed]",
      "text/plain": [
       "<Figure size 432x288 with 1 Axes>"
      ]
     },
     "metadata": {
      "needs_background": "light"
     },
     "output_type": "display_data"
    }
   ],
   "source": [
    "Seattle_Calender['price'] = Outlier_Treatment(Seattle_Calender['price'])\n",
    "sns.boxplot(y = Seattle_Calender['price'])\n"
   ]
  },
  {
   "cell_type": "code",
   "execution_count": 30,
   "id": "e807a351",
   "metadata": {},
   "outputs": [
    {
     "data": {
      "text/plain": [
       "count    934542.000000\n",
       "mean        128.110183\n",
       "std          70.429741\n",
       "min          10.000000\n",
       "25%          75.000000\n",
       "50%         109.000000\n",
       "75%         160.000000\n",
       "max         287.500000\n",
       "Name: price, dtype: float64"
      ]
     },
     "execution_count": 30,
     "metadata": {},
     "output_type": "execute_result"
    }
   ],
   "source": [
    "Seattle_Calender['price'].describe()"
   ]
  },
  {
   "cell_type": "code",
   "execution_count": 31,
   "id": "a080bd8b",
   "metadata": {},
   "outputs": [
    {
     "data": {
      "text/html": [
       "<div>\n",
       "<style scoped>\n",
       "    .dataframe tbody tr th:only-of-type {\n",
       "        vertical-align: middle;\n",
       "    }\n",
       "\n",
       "    .dataframe tbody tr th {\n",
       "        vertical-align: top;\n",
       "    }\n",
       "\n",
       "    .dataframe thead th {\n",
       "        text-align: right;\n",
       "    }\n",
       "</style>\n",
       "<table border=\"1\" class=\"dataframe\">\n",
       "  <thead>\n",
       "    <tr style=\"text-align: right;\">\n",
       "      <th></th>\n",
       "      <th>index</th>\n",
       "      <th>listing_id</th>\n",
       "      <th>date</th>\n",
       "      <th>available</th>\n",
       "      <th>price</th>\n",
       "      <th>Month</th>\n",
       "      <th>Week_Number</th>\n",
       "    </tr>\n",
       "  </thead>\n",
       "  <tbody>\n",
       "    <tr>\n",
       "      <th>0</th>\n",
       "      <td>0</td>\n",
       "      <td>241032</td>\n",
       "      <td>2016-01-04</td>\n",
       "      <td>t</td>\n",
       "      <td>85.0</td>\n",
       "      <td>January</td>\n",
       "      <td>1</td>\n",
       "    </tr>\n",
       "    <tr>\n",
       "      <th>1</th>\n",
       "      <td>25185</td>\n",
       "      <td>10234558</td>\n",
       "      <td>2016-01-04</td>\n",
       "      <td>t</td>\n",
       "      <td>50.0</td>\n",
       "      <td>January</td>\n",
       "      <td>1</td>\n",
       "    </tr>\n",
       "    <tr>\n",
       "      <th>2</th>\n",
       "      <td>25184</td>\n",
       "      <td>7618605</td>\n",
       "      <td>2017-01-02</td>\n",
       "      <td>t</td>\n",
       "      <td>175.0</td>\n",
       "      <td>January</td>\n",
       "      <td>1</td>\n",
       "    </tr>\n",
       "    <tr>\n",
       "      <th>3</th>\n",
       "      <td>633639</td>\n",
       "      <td>353347</td>\n",
       "      <td>2017-01-02</td>\n",
       "      <td>t</td>\n",
       "      <td>200.0</td>\n",
       "      <td>January</td>\n",
       "      <td>1</td>\n",
       "    </tr>\n",
       "    <tr>\n",
       "      <th>4</th>\n",
       "      <td>633640</td>\n",
       "      <td>838764</td>\n",
       "      <td>2016-01-04</td>\n",
       "      <td>t</td>\n",
       "      <td>240.0</td>\n",
       "      <td>January</td>\n",
       "      <td>1</td>\n",
       "    </tr>\n",
       "    <tr>\n",
       "      <th>...</th>\n",
       "      <td>...</td>\n",
       "      <td>...</td>\n",
       "      <td>...</td>\n",
       "      <td>...</td>\n",
       "      <td>...</td>\n",
       "      <td>...</td>\n",
       "      <td>...</td>\n",
       "    </tr>\n",
       "    <tr>\n",
       "      <th>934537</th>\n",
       "      <td>769053</td>\n",
       "      <td>6416765</td>\n",
       "      <td>2017-01-01</td>\n",
       "      <td>t</td>\n",
       "      <td>149.0</td>\n",
       "      <td>January</td>\n",
       "      <td>52</td>\n",
       "    </tr>\n",
       "    <tr>\n",
       "      <th>934538</th>\n",
       "      <td>769412</td>\n",
       "      <td>5056580</td>\n",
       "      <td>2016-12-26</td>\n",
       "      <td>t</td>\n",
       "      <td>99.0</td>\n",
       "      <td>December</td>\n",
       "      <td>52</td>\n",
       "    </tr>\n",
       "    <tr>\n",
       "      <th>934539</th>\n",
       "      <td>769413</td>\n",
       "      <td>5056580</td>\n",
       "      <td>2016-12-27</td>\n",
       "      <td>t</td>\n",
       "      <td>99.0</td>\n",
       "      <td>December</td>\n",
       "      <td>52</td>\n",
       "    </tr>\n",
       "    <tr>\n",
       "      <th>934540</th>\n",
       "      <td>767957</td>\n",
       "      <td>10020221</td>\n",
       "      <td>2016-12-31</td>\n",
       "      <td>t</td>\n",
       "      <td>55.0</td>\n",
       "      <td>December</td>\n",
       "      <td>52</td>\n",
       "    </tr>\n",
       "    <tr>\n",
       "      <th>934541</th>\n",
       "      <td>716123</td>\n",
       "      <td>609252</td>\n",
       "      <td>2016-12-27</td>\n",
       "      <td>t</td>\n",
       "      <td>280.0</td>\n",
       "      <td>December</td>\n",
       "      <td>52</td>\n",
       "    </tr>\n",
       "  </tbody>\n",
       "</table>\n",
       "<p>934542 rows × 7 columns</p>\n",
       "</div>"
      ],
      "text/plain": [
       "         index  listing_id       date available  price     Month  Week_Number\n",
       "0            0      241032 2016-01-04         t   85.0   January            1\n",
       "1        25185    10234558 2016-01-04         t   50.0   January            1\n",
       "2        25184     7618605 2017-01-02         t  175.0   January            1\n",
       "3       633639      353347 2017-01-02         t  200.0   January            1\n",
       "4       633640      838764 2016-01-04         t  240.0   January            1\n",
       "...        ...         ...        ...       ...    ...       ...          ...\n",
       "934537  769053     6416765 2017-01-01         t  149.0   January           52\n",
       "934538  769412     5056580 2016-12-26         t   99.0  December           52\n",
       "934539  769413     5056580 2016-12-27         t   99.0  December           52\n",
       "934540  767957    10020221 2016-12-31         t   55.0  December           52\n",
       "934541  716123      609252 2016-12-27         t  280.0  December           52\n",
       "\n",
       "[934542 rows x 7 columns]"
      ]
     },
     "execution_count": 31,
     "metadata": {},
     "output_type": "execute_result"
    }
   ],
   "source": [
    "## Adding a new column 'Month' and Week as we are check what is best month for visting Seattle\n",
    "\n",
    "Seattle_Calender['Month'] = Seattle_Calender['date'].dt.month_name()\n",
    "Seattle_Calender['Week_Number'] = Seattle_Calender['date'].dt.isocalendar().week\n",
    "Seattle_Calender = Seattle_Calender.sort_values(by = ['Week_Number']).reset_index()\n",
    "Seattle_Calender"
   ]
  },
  {
   "cell_type": "code",
   "execution_count": 32,
   "id": "e0c1d110",
   "metadata": {},
   "outputs": [
    {
     "data": {
      "text/plain": [
       "<AxesSubplot:xlabel='Month'>"
      ]
     },
     "execution_count": 32,
     "metadata": {},
     "output_type": "execute_result"
    },
    {
     "data": {
      "image/png": "[encoded data removed]",
      "text/plain": [
       "<Figure size 432x288 with 1 Axes>"
      ]
     },
     "metadata": {
      "needs_background": "light"
     },
     "output_type": "display_data"
    }
   ],
   "source": [
    "Seattle_Calender.groupby(['Month'],sort = False)['price'].mean().plot(kind = 'bar')"
   ]
  },
  {
   "cell_type": "code",
   "execution_count": 33,
   "id": "afffa5dd",
   "metadata": {},
   "outputs": [
    {
     "data": {
      "text/plain": [
       "<AxesSubplot:xlabel='Month'>"
      ]
     },
     "execution_count": 33,
     "metadata": {},
     "output_type": "execute_result"
    },
    {
     "data": {
      "image/png": "[encoded data removed]",
      "text/plain": [
       "<Figure size 1080x720 with 1 Axes>"
      ]
     },
     "metadata": {
      "needs_background": "light"
     },
     "output_type": "display_data"
    }
   ],
   "source": [
    "Boston_df = Boston_Calender.groupby(['Month'],sort = False,as_index=False)['price'].mean()\n",
    "Seattle_df = Seattle_Calender.groupby(['Month'],sort = False,as_index = False)['price'].mean()\n",
    "\n",
    "df = pd.merge(Boston_df, Seattle_df,on = 'Month')\n",
    "\n",
    "df = df.rename(columns = {'price_x':'Boston','price_y':'Seattle'})\n",
    "\n",
    "# plt.style.use('seaborn')\n",
    "# plt.tight_layout()\n",
    "\n",
    "df.plot(kind = 'bar',x = 'Month',figsize = [15,10])\n",
    "\n"
   ]
  },
  {
   "cell_type": "code",
   "execution_count": 34,
   "id": "6569d7f4",
   "metadata": {},
   "outputs": [
    {
     "data": {
      "text/html": [
       "<style type=\"text/css\">\n",
       "#T_69e9e_row0_col3 {\n",
       "  width: 10em;\n",
       "  background: linear-gradient(90deg, #5fba7d 79.1%, transparent 79.1%);\n",
       "}\n",
       "#T_69e9e_row1_col3 {\n",
       "  width: 10em;\n",
       "  background: linear-gradient(90deg, #5fba7d 75.8%, transparent 75.8%);\n",
       "}\n",
       "#T_69e9e_row2_col3 {\n",
       "  width: 10em;\n",
       "  background: linear-gradient(90deg, #5fba7d 70.3%, transparent 70.3%);\n",
       "}\n",
       "#T_69e9e_row3_col3 {\n",
       "  width: 10em;\n",
       "  background: linear-gradient(90deg, #5fba7d 73.1%, transparent 73.1%);\n",
       "}\n",
       "#T_69e9e_row4_col3 {\n",
       "  width: 10em;\n",
       "  background: linear-gradient(90deg, #5fba7d 67.5%, transparent 67.5%);\n",
       "}\n",
       "#T_69e9e_row5_col3 {\n",
       "  width: 10em;\n",
       "  background: linear-gradient(90deg, #5fba7d 64.3%, transparent 64.3%);\n",
       "}\n",
       "#T_69e9e_row6_col3 {\n",
       "  width: 10em;\n",
       "  background: linear-gradient(90deg, #5fba7d 63.9%, transparent 63.9%);\n",
       "}\n",
       "#T_69e9e_row7_col3 {\n",
       "  width: 10em;\n",
       "  background: linear-gradient(90deg, #5fba7d 63.8%, transparent 63.8%);\n",
       "}\n",
       "#T_69e9e_row8_col3 {\n",
       "  width: 10em;\n",
       "  background: linear-gradient(90deg, #5fba7d 96.3%, transparent 96.3%);\n",
       "}\n",
       "#T_69e9e_row9_col3 {\n",
       "  width: 10em;\n",
       "  background: linear-gradient(90deg, #5fba7d 100.0%, transparent 100.0%);\n",
       "}\n",
       "#T_69e9e_row10_col3 {\n",
       "  width: 10em;\n",
       "  background: linear-gradient(90deg, #5fba7d 82.8%, transparent 82.8%);\n",
       "}\n",
       "#T_69e9e_row11_col3 {\n",
       "  width: 10em;\n",
       "  background: linear-gradient(90deg, #5fba7d 73.0%, transparent 73.0%);\n",
       "}\n",
       "</style>\n",
       "<table id=\"T_69e9e\">\n",
       "  <thead>\n",
       "    <tr>\n",
       "      <th class=\"blank level0\" >&nbsp;</th>\n",
       "      <th id=\"T_69e9e_level0_col0\" class=\"col_heading level0 col0\" >Month</th>\n",
       "      <th id=\"T_69e9e_level0_col1\" class=\"col_heading level0 col1\" >Boston</th>\n",
       "      <th id=\"T_69e9e_level0_col2\" class=\"col_heading level0 col2\" >Seattle</th>\n",
       "      <th id=\"T_69e9e_level0_col3\" class=\"col_heading level0 col3\" >Diff_Prices</th>\n",
       "    </tr>\n",
       "  </thead>\n",
       "  <tbody>\n",
       "    <tr>\n",
       "      <th id=\"T_69e9e_level0_row0\" class=\"row_heading level0 row0\" >0</th>\n",
       "      <td id=\"T_69e9e_row0_col0\" class=\"data row0 col0\" >January</td>\n",
       "      <td id=\"T_69e9e_row0_col1\" class=\"data row0 col1\" >177.115636</td>\n",
       "      <td id=\"T_69e9e_row0_col2\" class=\"data row0 col2\" >116.902790</td>\n",
       "      <td id=\"T_69e9e_row0_col3\" class=\"data row0 col3\" >34.000000</td>\n",
       "    </tr>\n",
       "    <tr>\n",
       "      <th id=\"T_69e9e_level0_row1\" class=\"row_heading level0 row1\" >1</th>\n",
       "      <td id=\"T_69e9e_row1_col0\" class=\"data row1 col0\" >February</td>\n",
       "      <td id=\"T_69e9e_row1_col1\" class=\"data row1 col1\" >174.638391</td>\n",
       "      <td id=\"T_69e9e_row1_col2\" class=\"data row1 col2\" >117.743205</td>\n",
       "      <td id=\"T_69e9e_row1_col3\" class=\"data row1 col3\" >32.580000</td>\n",
       "    </tr>\n",
       "    <tr>\n",
       "      <th id=\"T_69e9e_level0_row2\" class=\"row_heading level0 row2\" >2</th>\n",
       "      <td id=\"T_69e9e_row2_col0\" class=\"data row2 col0\" >March</td>\n",
       "      <td id=\"T_69e9e_row2_col1\" class=\"data row2 col1\" >174.401406</td>\n",
       "      <td id=\"T_69e9e_row2_col2\" class=\"data row2 col2\" >121.689854</td>\n",
       "      <td id=\"T_69e9e_row2_col3\" class=\"data row2 col3\" >30.220000</td>\n",
       "    </tr>\n",
       "    <tr>\n",
       "      <th id=\"T_69e9e_level0_row3\" class=\"row_heading level0 row3\" >3</th>\n",
       "      <td id=\"T_69e9e_row3_col0\" class=\"data row3 col0\" >April</td>\n",
       "      <td id=\"T_69e9e_row3_col1\" class=\"data row3 col1\" >185.347651</td>\n",
       "      <td id=\"T_69e9e_row3_col2\" class=\"data row3 col2\" >127.126945</td>\n",
       "      <td id=\"T_69e9e_row3_col3\" class=\"data row3 col3\" >31.410000</td>\n",
       "    </tr>\n",
       "    <tr>\n",
       "      <th id=\"T_69e9e_level0_row4\" class=\"row_heading level0 row4\" >4</th>\n",
       "      <td id=\"T_69e9e_row4_col0\" class=\"data row4 col0\" >May</td>\n",
       "      <td id=\"T_69e9e_row4_col1\" class=\"data row4 col1\" >183.537500</td>\n",
       "      <td id=\"T_69e9e_row4_col2\" class=\"data row4 col2\" >130.273462</td>\n",
       "      <td id=\"T_69e9e_row4_col3\" class=\"data row4 col3\" >29.020000</td>\n",
       "    </tr>\n",
       "    <tr>\n",
       "      <th id=\"T_69e9e_level0_row5\" class=\"row_heading level0 row5\" >5</th>\n",
       "      <td id=\"T_69e9e_row5_col0\" class=\"data row5 col0\" >June</td>\n",
       "      <td id=\"T_69e9e_row5_col1\" class=\"data row5 col1\" >186.397262</td>\n",
       "      <td id=\"T_69e9e_row5_col2\" class=\"data row5 col2\" >134.875110</td>\n",
       "      <td id=\"T_69e9e_row5_col3\" class=\"data row5 col3\" >27.640000</td>\n",
       "    </tr>\n",
       "    <tr>\n",
       "      <th id=\"T_69e9e_level0_row6\" class=\"row_heading level0 row6\" >6</th>\n",
       "      <td id=\"T_69e9e_row6_col0\" class=\"data row6 col0\" >July</td>\n",
       "      <td id=\"T_69e9e_row6_col1\" class=\"data row6 col1\" >188.772502</td>\n",
       "      <td id=\"T_69e9e_row6_col2\" class=\"data row6 col2\" >136.950176</td>\n",
       "      <td id=\"T_69e9e_row6_col3\" class=\"data row6 col3\" >27.450000</td>\n",
       "    </tr>\n",
       "    <tr>\n",
       "      <th id=\"T_69e9e_level0_row7\" class=\"row_heading level0 row7\" >7</th>\n",
       "      <td id=\"T_69e9e_row7_col0\" class=\"data row7 col0\" >August</td>\n",
       "      <td id=\"T_69e9e_row7_col1\" class=\"data row7 col1\" >187.528734</td>\n",
       "      <td id=\"T_69e9e_row7_col2\" class=\"data row7 col2\" >136.116894</td>\n",
       "      <td id=\"T_69e9e_row7_col3\" class=\"data row7 col3\" >27.420000</td>\n",
       "    </tr>\n",
       "    <tr>\n",
       "      <th id=\"T_69e9e_level0_row8\" class=\"row_heading level0 row8\" >8</th>\n",
       "      <td id=\"T_69e9e_row8_col0\" class=\"data row8 col0\" >September</td>\n",
       "      <td id=\"T_69e9e_row8_col1\" class=\"data row8 col1\" >226.264387</td>\n",
       "      <td id=\"T_69e9e_row8_col2\" class=\"data row8 col2\" >132.621683</td>\n",
       "      <td id=\"T_69e9e_row8_col3\" class=\"data row8 col3\" >41.390000</td>\n",
       "    </tr>\n",
       "    <tr>\n",
       "      <th id=\"T_69e9e_level0_row9\" class=\"row_heading level0 row9\" >9</th>\n",
       "      <td id=\"T_69e9e_row9_col0\" class=\"data row9 col0\" >October</td>\n",
       "      <td id=\"T_69e9e_row9_col1\" class=\"data row9 col1\" >223.906398</td>\n",
       "      <td id=\"T_69e9e_row9_col2\" class=\"data row9 col2\" >127.693157</td>\n",
       "      <td id=\"T_69e9e_row9_col3\" class=\"data row9 col3\" >42.970000</td>\n",
       "    </tr>\n",
       "    <tr>\n",
       "      <th id=\"T_69e9e_level0_row10\" class=\"row_heading level0 row10\" >10</th>\n",
       "      <td id=\"T_69e9e_row10_col0\" class=\"data row10 col0\" >November</td>\n",
       "      <td id=\"T_69e9e_row10_col1\" class=\"data row10 col1\" >196.139519</td>\n",
       "      <td id=\"T_69e9e_row10_col2\" class=\"data row10 col2\" >126.400783</td>\n",
       "      <td id=\"T_69e9e_row10_col3\" class=\"data row10 col3\" >35.560000</td>\n",
       "    </tr>\n",
       "    <tr>\n",
       "      <th id=\"T_69e9e_level0_row11\" class=\"row_heading level0 row11\" >11</th>\n",
       "      <td id=\"T_69e9e_row11_col0\" class=\"data row11 col0\" >December</td>\n",
       "      <td id=\"T_69e9e_row11_col1\" class=\"data row11 col1\" >186.075364</td>\n",
       "      <td id=\"T_69e9e_row11_col2\" class=\"data row11 col2\" >127.699923</td>\n",
       "      <td id=\"T_69e9e_row11_col3\" class=\"data row11 col3\" >31.370000</td>\n",
       "    </tr>\n",
       "  </tbody>\n",
       "</table>\n"
      ],
      "text/plain": [
       "<pandas.io.formats.style.Styler at 0x1bd078038e0>"
      ]
     },
     "execution_count": 34,
     "metadata": {},
     "output_type": "execute_result"
    }
   ],
   "source": [
    "df['Diff_Prices'] = ((df['Boston'] - df['Seattle'])/df['Boston']*100)\n",
    "df['Diff_Prices'] = df['Diff_Prices'].round(2)\n",
    "\n",
    "df.style.bar(subset = ['Diff_Prices'],align = 'mid',color=['#d65f5f', '#5fba7d'])\n"
   ]
  },
  {
   "cell_type": "code",
   "execution_count": 44,
   "id": "e38195fa",
   "metadata": {},
   "outputs": [
    {
     "name": "stdout",
     "output_type": "stream",
     "text": [
      "Boston_Price_Hike 22.33207822142115\n"
     ]
    },
    {
     "data": {
      "text/plain": [
       "<AxesSubplot:>"
      ]
     },
     "execution_count": 44,
     "metadata": {},
     "output_type": "execute_result"
    },
    {
     "data": {
      "image/png": "[encoded data removed]",
      "text/plain": [
       "<Figure size 432x288 with 1 Axes>"
      ]
     },
     "metadata": {
      "needs_background": "light"
     },
     "output_type": "display_data"
    }
   ],
   "source": [
    "Boston_Busy_Season_Price = df['Boston'][df['Boston']>200].mean() \n",
    "Boston_Reg_Season_Price = df['Boston'][df['Boston']<200].mean()\n",
    "Boston_Price_Hike = (Boston_Busy_Season_Price - Boston_Reg_Season_Price)/Boston_Reg_Season_Price*100\n",
    "print('Boston_Price_Hike',Boston_Price_Hike)\n",
    "\n",
    "Boston_Season_Diff = pd.DataFrame({'Busy Season' : [Boston_Busy_Season_Price],'Regular Season':[Boston_Reg_Season_Price]})\n",
    "Boston_Season_Diff.plot(kind = 'bar')\n",
    "\n",
    "#plt.bar(Boston_Busy_Season_Price,Boston_Reg_Season_Price)"
   ]
  },
  {
   "cell_type": "code",
   "execution_count": 45,
   "id": "67a652da",
   "metadata": {},
   "outputs": [
    {
     "name": "stdout",
     "output_type": "stream",
     "text": [
      "Seattle_Price_Hike 8.542621085423113\n"
     ]
    },
    {
     "data": {
      "text/plain": [
       "<AxesSubplot:>"
      ]
     },
     "execution_count": 45,
     "metadata": {},
     "output_type": "execute_result"
    },
    {
     "data": {
      "image/png": "[encoded data removed]",
      "text/plain": [
       "<Figure size 432x288 with 1 Axes>"
      ]
     },
     "metadata": {
      "needs_background": "light"
     },
     "output_type": "display_data"
    }
   ],
   "source": [
    "Seattle_Busy_Season_Price = df['Seattle'][df['Seattle']>130].mean() \n",
    "Seattle_Reg_Season_Price = df['Seattle'][df['Seattle']<130].mean()\n",
    "Seattle_Price_Hike = (Seattle_Busy_Season_Price - Seattle_Reg_Season_Price)/Seattle_Reg_Season_Price*100\n",
    "print('Seattle_Price_Hike',Seattle_Price_Hike)\n",
    "\n",
    "Seattle_Season_Diff = pd.DataFrame({'Busy Season':[Seattle_Busy_Season_Price],'Regular Season':[Seattle_Reg_Season_Price]})\n",
    "Seattle_Season_Diff.plot(kind ='bar')"
   ]
  },
  {
   "cell_type": "code",
   "execution_count": null,
   "id": "c9c1b01b",
   "metadata": {},
   "outputs": [],
   "source": []
  },
  {
   "cell_type": "code",
   "execution_count": null,
   "id": "ceef78f8",
   "metadata": {},
   "outputs": [],
   "source": []
  }
 ],
 "metadata": {
  "kernelspec": {
   "display_name": "Python 3 (ipykernel)",
   "language": "python",
   "name": "python3"
  },
  "language_info": {
   "codemirror_mode": {
    "name": "ipython",
    "version": 3
   },
   "file_extension": ".py",
   "mimetype": "text/x-python",
   "name": "python",
   "nbconvert_exporter": "python",
   "pygments_lexer": "ipython3",
   "version": "3.9.12"
  }
 },
 "nbformat": 4,
 "nbformat_minor": 5
}
